{
 "cells": [
  {
   "cell_type": "markdown",
   "id": "1a0f35f0",
   "metadata": {},
   "source": [
    "# TO-DO:\n",
    "- update training loop (should have 23 passes, I think)\n",
    "\n",
    "No: As specified in sec. III B., \"Several versions of LeNet-5 were trained on the regular MNIST database.  20 iterations through the entire training data were performed for each session. The values of the global learning rate was decreased using the following schedule:\n",
    "- 0.0005 for the first 2 passes\n",
    "- 0.0002 for the next 3\n",
    "- 0.0001 for the next 3\n",
    "- 0.00005 for the next 4\n",
    "- 0.00001 thereafter (8)\n",
    "before each iteration, the diagonal Hessian approximation was reevaluated on 500 samples\"\n",
    "NOTE: \"our update algorithm is dubbed the Stochastic Diagonal Levenberg-Marquardt (SDL) method where an individual learning rate is computed for each parameter before each pass through the training set. These learning rates are computed using the diagonal termso f an estimate of the Guss-Newton approximation to the Hessian (2nd derivative) matrix.  This algorithm is not believed to bring a tremendous increase in learning speed, but it converges reliably without extensive adjustments of the learning parrameters. It corrects major ill-conditioning of the loss function that are due to the peculiarities of the network architecture and the training data. The additional cost of using this prcedure over standard SGD is negligible. at each learning iteration, a parameter w_k is updated according to:\n",
    "\n",
    "$$w_k \\leftarrow w_k - \\epsilon_k \\frac{\\partial E^p}{\\partial w_k},$$\n",
    "\n",
    "where $E^p$ is the instantaneous loss function for pattern $p$.\"\n",
    "\n",
    "Note: read this section carefully. Additional details for Conv layers etc. You can consider simplifying from this (read sec. III B., they talk about an effective learning rate)\n",
    "\n",
    "- MNIST is not really the right dataset for this. Might need to scale down fromn 28x28 to 16x16 (e.g. bilinear interpolation). Also think about what to do about the bitmaps in this regard\n",
    "\n",
    "Think about this more closely, including how you deal with the prototypes!\n",
    "\n",
    "- make sure to take care of the weight initialization. NOTE: paper seems to have some typos here (says 2.4/F, but should be 2.4/sqrt(F), where F in fan-in)\n",
    "\n",
    "\"Before training, the weights are initialized with random values, using a uniform distribution between -2.4/F_i and 2.4/F_i, where F_i is the number of inputs (fan-in) of the unit which the connectino belongs to.\"\n",
    "\n",
    "They further explain:\n",
    "\n",
    "\"The std of the weighted sum scales like the sqrt of F_i when the inputs are independet, and it scales linearly if the inputs are highly correlated. We chose to assume the second hypothesis since some units recieve highly correlated signals.\""
   ]
  },
  {
   "cell_type": "code",
   "execution_count": 13,
   "id": "d4d21ebe",
   "metadata": {},
   "outputs": [
    {
     "data": {
      "text/plain": [
       "'/Users/mariusmahiout/Documents/repos'"
      ]
     },
     "execution_count": 13,
     "metadata": {},
     "output_type": "execute_result"
    }
   ],
   "source": [
    "import os\n",
    "os.chdir(\"..\")\n",
    "os.getcwd()"
   ]
  },
  {
   "cell_type": "code",
   "execution_count": 4,
   "id": "54d6e525",
   "metadata": {},
   "outputs": [],
   "source": [
    "from src.model import LeNet5\n",
    "from src.fixed_params import get_c3_connectivity\n",
    "import src.data_proc as data_proc"
   ]
  },
  {
   "cell_type": "code",
   "execution_count": 5,
   "id": "699ecfd8",
   "metadata": {},
   "outputs": [],
   "source": [
    "# modelling\n",
    "import torch\n",
    "import torch.nn as nn\n",
    "import torch.optim as optim\n",
    "import torch.nn.functional as F\n",
    "\n",
    "# data processing\n",
    "from torchvision import datasets, transforms\n",
    "from torch.utils.data import DataLoader\n",
    "\n",
    "# plotting\n",
    "import matplotlib.pyplot as plt"
   ]
  },
  {
   "cell_type": "markdown",
   "id": "5794c08a",
   "metadata": {},
   "source": [
    "# Loading data"
   ]
  },
  {
   "cell_type": "code",
   "execution_count": 6,
   "id": "2ed3d4c3",
   "metadata": {},
   "outputs": [],
   "source": [
    "train_data, test_data = data_proc.get_datasets()"
   ]
  },
  {
   "cell_type": "code",
   "execution_count": 12,
   "id": "eecb5bcd",
   "metadata": {},
   "outputs": [
    {
     "data": {
      "text/plain": [
       "torch.Size([1, 32, 32])"
      ]
     },
     "execution_count": 12,
     "metadata": {},
     "output_type": "execute_result"
    }
   ],
   "source": [
    "img_tensor, label = train_data[0]\n",
    "img_tensor.shape"
   ]
  },
  {
   "cell_type": "code",
   "execution_count": 7,
   "id": "1e626af8",
   "metadata": {},
   "outputs": [
    {
     "data": {
      "image/png": "[encoded data removed]",
      "text/plain": [
       "<Figure size 1000x500 with 5 Axes>"
      ]
     },
     "metadata": {},
     "output_type": "display_data"
    }
   ],
   "source": [
    "# Visualizing some training examples\n",
    "num_examples = 5\n",
    "fig, ax = plt.subplots(ncols=num_examples, figsize=(10,5))\n",
    "for idx in range(num_examples):\n",
    "    img_tensor, label = train_data[idx]\n",
    "    ax[idx].imshow(img_tensor.detach().squeeze(), cmap='Greys')  # default colormap\n",
    "    ax[idx].set_title(f\"Label: {label}\")\n",
    "    ax[idx].axis('off')\n",
    "plt.show()"
   ]
  },
  {
   "cell_type": "code",
   "execution_count": 8,
   "id": "db10de34",
   "metadata": {},
   "outputs": [],
   "source": [
    "batch_size = 32\n",
    "train_loader = DataLoader(train_data, batch_size=batch_size, shuffle=True)\n",
    "test_loader = DataLoader(test_data, batch_size=batch_size, shuffle=False)"
   ]
  },
  {
   "cell_type": "code",
   "execution_count": 9,
   "id": "4e0e3346",
   "metadata": {},
   "outputs": [
    {
     "data": {
      "text/html": [
       "<style type=\"text/css\">\n",
       "#T_0c7be_row0_col0, #T_0c7be_row0_col4, #T_0c7be_row0_col5, #T_0c7be_row0_col6, #T_0c7be_row0_col9, #T_0c7be_row0_col10, #T_0c7be_row0_col11, #T_0c7be_row0_col12, #T_0c7be_row0_col14, #T_0c7be_row0_col15, #T_0c7be_row1_col0, #T_0c7be_row1_col1, #T_0c7be_row1_col5, #T_0c7be_row1_col6, #T_0c7be_row1_col7, #T_0c7be_row1_col10, #T_0c7be_row1_col11, #T_0c7be_row1_col12, #T_0c7be_row1_col13, #T_0c7be_row1_col15, #T_0c7be_row2_col0, #T_0c7be_row2_col1, #T_0c7be_row2_col2, #T_0c7be_row2_col6, #T_0c7be_row2_col7, #T_0c7be_row2_col8, #T_0c7be_row2_col11, #T_0c7be_row2_col13, #T_0c7be_row2_col14, #T_0c7be_row2_col15, #T_0c7be_row3_col1, #T_0c7be_row3_col2, #T_0c7be_row3_col3, #T_0c7be_row3_col6, #T_0c7be_row3_col7, #T_0c7be_row3_col8, #T_0c7be_row3_col9, #T_0c7be_row3_col12, #T_0c7be_row3_col14, #T_0c7be_row3_col15, #T_0c7be_row4_col2, #T_0c7be_row4_col3, #T_0c7be_row4_col4, #T_0c7be_row4_col7, #T_0c7be_row4_col8, #T_0c7be_row4_col9, #T_0c7be_row4_col10, #T_0c7be_row4_col12, #T_0c7be_row4_col13, #T_0c7be_row4_col15, #T_0c7be_row5_col3, #T_0c7be_row5_col4, #T_0c7be_row5_col5, #T_0c7be_row5_col8, #T_0c7be_row5_col9, #T_0c7be_row5_col10, #T_0c7be_row5_col11, #T_0c7be_row5_col13, #T_0c7be_row5_col14, #T_0c7be_row5_col15 {\n",
       "  color: red;\n",
       "}\n",
       "</style>\n",
       "<table id=\"T_0c7be\">\n",
       "  <thead>\n",
       "    <tr>\n",
       "      <th class=\"blank level0\" >&nbsp;</th>\n",
       "      <th id=\"T_0c7be_level0_col0\" class=\"col_heading level0 col0\" >0</th>\n",
       "      <th id=\"T_0c7be_level0_col1\" class=\"col_heading level0 col1\" >1</th>\n",
       "      <th id=\"T_0c7be_level0_col2\" class=\"col_heading level0 col2\" >2</th>\n",
       "      <th id=\"T_0c7be_level0_col3\" class=\"col_heading level0 col3\" >3</th>\n",
       "      <th id=\"T_0c7be_level0_col4\" class=\"col_heading level0 col4\" >4</th>\n",
       "      <th id=\"T_0c7be_level0_col5\" class=\"col_heading level0 col5\" >5</th>\n",
       "      <th id=\"T_0c7be_level0_col6\" class=\"col_heading level0 col6\" >6</th>\n",
       "      <th id=\"T_0c7be_level0_col7\" class=\"col_heading level0 col7\" >7</th>\n",
       "      <th id=\"T_0c7be_level0_col8\" class=\"col_heading level0 col8\" >8</th>\n",
       "      <th id=\"T_0c7be_level0_col9\" class=\"col_heading level0 col9\" >9</th>\n",
       "      <th id=\"T_0c7be_level0_col10\" class=\"col_heading level0 col10\" >10</th>\n",
       "      <th id=\"T_0c7be_level0_col11\" class=\"col_heading level0 col11\" >11</th>\n",
       "      <th id=\"T_0c7be_level0_col12\" class=\"col_heading level0 col12\" >12</th>\n",
       "      <th id=\"T_0c7be_level0_col13\" class=\"col_heading level0 col13\" >13</th>\n",
       "      <th id=\"T_0c7be_level0_col14\" class=\"col_heading level0 col14\" >14</th>\n",
       "      <th id=\"T_0c7be_level0_col15\" class=\"col_heading level0 col15\" >15</th>\n",
       "    </tr>\n",
       "  </thead>\n",
       "  <tbody>\n",
       "    <tr>\n",
       "      <th id=\"T_0c7be_level0_row0\" class=\"row_heading level0 row0\" >0</th>\n",
       "      <td id=\"T_0c7be_row0_col0\" class=\"data row0 col0\" >1</td>\n",
       "      <td id=\"T_0c7be_row0_col1\" class=\"data row0 col1\" >0</td>\n",
       "      <td id=\"T_0c7be_row0_col2\" class=\"data row0 col2\" >0</td>\n",
       "      <td id=\"T_0c7be_row0_col3\" class=\"data row0 col3\" >0</td>\n",
       "      <td id=\"T_0c7be_row0_col4\" class=\"data row0 col4\" >1</td>\n",
       "      <td id=\"T_0c7be_row0_col5\" class=\"data row0 col5\" >1</td>\n",
       "      <td id=\"T_0c7be_row0_col6\" class=\"data row0 col6\" >1</td>\n",
       "      <td id=\"T_0c7be_row0_col7\" class=\"data row0 col7\" >0</td>\n",
       "      <td id=\"T_0c7be_row0_col8\" class=\"data row0 col8\" >0</td>\n",
       "      <td id=\"T_0c7be_row0_col9\" class=\"data row0 col9\" >1</td>\n",
       "      <td id=\"T_0c7be_row0_col10\" class=\"data row0 col10\" >1</td>\n",
       "      <td id=\"T_0c7be_row0_col11\" class=\"data row0 col11\" >1</td>\n",
       "      <td id=\"T_0c7be_row0_col12\" class=\"data row0 col12\" >1</td>\n",
       "      <td id=\"T_0c7be_row0_col13\" class=\"data row0 col13\" >0</td>\n",
       "      <td id=\"T_0c7be_row0_col14\" class=\"data row0 col14\" >1</td>\n",
       "      <td id=\"T_0c7be_row0_col15\" class=\"data row0 col15\" >1</td>\n",
       "    </tr>\n",
       "    <tr>\n",
       "      <th id=\"T_0c7be_level0_row1\" class=\"row_heading level0 row1\" >1</th>\n",
       "      <td id=\"T_0c7be_row1_col0\" class=\"data row1 col0\" >1</td>\n",
       "      <td id=\"T_0c7be_row1_col1\" class=\"data row1 col1\" >1</td>\n",
       "      <td id=\"T_0c7be_row1_col2\" class=\"data row1 col2\" >0</td>\n",
       "      <td id=\"T_0c7be_row1_col3\" class=\"data row1 col3\" >0</td>\n",
       "      <td id=\"T_0c7be_row1_col4\" class=\"data row1 col4\" >0</td>\n",
       "      <td id=\"T_0c7be_row1_col5\" class=\"data row1 col5\" >1</td>\n",
       "      <td id=\"T_0c7be_row1_col6\" class=\"data row1 col6\" >1</td>\n",
       "      <td id=\"T_0c7be_row1_col7\" class=\"data row1 col7\" >1</td>\n",
       "      <td id=\"T_0c7be_row1_col8\" class=\"data row1 col8\" >0</td>\n",
       "      <td id=\"T_0c7be_row1_col9\" class=\"data row1 col9\" >0</td>\n",
       "      <td id=\"T_0c7be_row1_col10\" class=\"data row1 col10\" >1</td>\n",
       "      <td id=\"T_0c7be_row1_col11\" class=\"data row1 col11\" >1</td>\n",
       "      <td id=\"T_0c7be_row1_col12\" class=\"data row1 col12\" >1</td>\n",
       "      <td id=\"T_0c7be_row1_col13\" class=\"data row1 col13\" >1</td>\n",
       "      <td id=\"T_0c7be_row1_col14\" class=\"data row1 col14\" >0</td>\n",
       "      <td id=\"T_0c7be_row1_col15\" class=\"data row1 col15\" >1</td>\n",
       "    </tr>\n",
       "    <tr>\n",
       "      <th id=\"T_0c7be_level0_row2\" class=\"row_heading level0 row2\" >2</th>\n",
       "      <td id=\"T_0c7be_row2_col0\" class=\"data row2 col0\" >1</td>\n",
       "      <td id=\"T_0c7be_row2_col1\" class=\"data row2 col1\" >1</td>\n",
       "      <td id=\"T_0c7be_row2_col2\" class=\"data row2 col2\" >1</td>\n",
       "      <td id=\"T_0c7be_row2_col3\" class=\"data row2 col3\" >0</td>\n",
       "      <td id=\"T_0c7be_row2_col4\" class=\"data row2 col4\" >0</td>\n",
       "      <td id=\"T_0c7be_row2_col5\" class=\"data row2 col5\" >0</td>\n",
       "      <td id=\"T_0c7be_row2_col6\" class=\"data row2 col6\" >1</td>\n",
       "      <td id=\"T_0c7be_row2_col7\" class=\"data row2 col7\" >1</td>\n",
       "      <td id=\"T_0c7be_row2_col8\" class=\"data row2 col8\" >1</td>\n",
       "      <td id=\"T_0c7be_row2_col9\" class=\"data row2 col9\" >0</td>\n",
       "      <td id=\"T_0c7be_row2_col10\" class=\"data row2 col10\" >0</td>\n",
       "      <td id=\"T_0c7be_row2_col11\" class=\"data row2 col11\" >1</td>\n",
       "      <td id=\"T_0c7be_row2_col12\" class=\"data row2 col12\" >0</td>\n",
       "      <td id=\"T_0c7be_row2_col13\" class=\"data row2 col13\" >1</td>\n",
       "      <td id=\"T_0c7be_row2_col14\" class=\"data row2 col14\" >1</td>\n",
       "      <td id=\"T_0c7be_row2_col15\" class=\"data row2 col15\" >1</td>\n",
       "    </tr>\n",
       "    <tr>\n",
       "      <th id=\"T_0c7be_level0_row3\" class=\"row_heading level0 row3\" >3</th>\n",
       "      <td id=\"T_0c7be_row3_col0\" class=\"data row3 col0\" >0</td>\n",
       "      <td id=\"T_0c7be_row3_col1\" class=\"data row3 col1\" >1</td>\n",
       "      <td id=\"T_0c7be_row3_col2\" class=\"data row3 col2\" >1</td>\n",
       "      <td id=\"T_0c7be_row3_col3\" class=\"data row3 col3\" >1</td>\n",
       "      <td id=\"T_0c7be_row3_col4\" class=\"data row3 col4\" >0</td>\n",
       "      <td id=\"T_0c7be_row3_col5\" class=\"data row3 col5\" >0</td>\n",
       "      <td id=\"T_0c7be_row3_col6\" class=\"data row3 col6\" >1</td>\n",
       "      <td id=\"T_0c7be_row3_col7\" class=\"data row3 col7\" >1</td>\n",
       "      <td id=\"T_0c7be_row3_col8\" class=\"data row3 col8\" >1</td>\n",
       "      <td id=\"T_0c7be_row3_col9\" class=\"data row3 col9\" >1</td>\n",
       "      <td id=\"T_0c7be_row3_col10\" class=\"data row3 col10\" >0</td>\n",
       "      <td id=\"T_0c7be_row3_col11\" class=\"data row3 col11\" >0</td>\n",
       "      <td id=\"T_0c7be_row3_col12\" class=\"data row3 col12\" >1</td>\n",
       "      <td id=\"T_0c7be_row3_col13\" class=\"data row3 col13\" >0</td>\n",
       "      <td id=\"T_0c7be_row3_col14\" class=\"data row3 col14\" >1</td>\n",
       "      <td id=\"T_0c7be_row3_col15\" class=\"data row3 col15\" >1</td>\n",
       "    </tr>\n",
       "    <tr>\n",
       "      <th id=\"T_0c7be_level0_row4\" class=\"row_heading level0 row4\" >4</th>\n",
       "      <td id=\"T_0c7be_row4_col0\" class=\"data row4 col0\" >0</td>\n",
       "      <td id=\"T_0c7be_row4_col1\" class=\"data row4 col1\" >0</td>\n",
       "      <td id=\"T_0c7be_row4_col2\" class=\"data row4 col2\" >1</td>\n",
       "      <td id=\"T_0c7be_row4_col3\" class=\"data row4 col3\" >1</td>\n",
       "      <td id=\"T_0c7be_row4_col4\" class=\"data row4 col4\" >1</td>\n",
       "      <td id=\"T_0c7be_row4_col5\" class=\"data row4 col5\" >0</td>\n",
       "      <td id=\"T_0c7be_row4_col6\" class=\"data row4 col6\" >0</td>\n",
       "      <td id=\"T_0c7be_row4_col7\" class=\"data row4 col7\" >1</td>\n",
       "      <td id=\"T_0c7be_row4_col8\" class=\"data row4 col8\" >1</td>\n",
       "      <td id=\"T_0c7be_row4_col9\" class=\"data row4 col9\" >1</td>\n",
       "      <td id=\"T_0c7be_row4_col10\" class=\"data row4 col10\" >1</td>\n",
       "      <td id=\"T_0c7be_row4_col11\" class=\"data row4 col11\" >0</td>\n",
       "      <td id=\"T_0c7be_row4_col12\" class=\"data row4 col12\" >1</td>\n",
       "      <td id=\"T_0c7be_row4_col13\" class=\"data row4 col13\" >1</td>\n",
       "      <td id=\"T_0c7be_row4_col14\" class=\"data row4 col14\" >0</td>\n",
       "      <td id=\"T_0c7be_row4_col15\" class=\"data row4 col15\" >1</td>\n",
       "    </tr>\n",
       "    <tr>\n",
       "      <th id=\"T_0c7be_level0_row5\" class=\"row_heading level0 row5\" >5</th>\n",
       "      <td id=\"T_0c7be_row5_col0\" class=\"data row5 col0\" >0</td>\n",
       "      <td id=\"T_0c7be_row5_col1\" class=\"data row5 col1\" >0</td>\n",
       "      <td id=\"T_0c7be_row5_col2\" class=\"data row5 col2\" >0</td>\n",
       "      <td id=\"T_0c7be_row5_col3\" class=\"data row5 col3\" >1</td>\n",
       "      <td id=\"T_0c7be_row5_col4\" class=\"data row5 col4\" >1</td>\n",
       "      <td id=\"T_0c7be_row5_col5\" class=\"data row5 col5\" >1</td>\n",
       "      <td id=\"T_0c7be_row5_col6\" class=\"data row5 col6\" >0</td>\n",
       "      <td id=\"T_0c7be_row5_col7\" class=\"data row5 col7\" >0</td>\n",
       "      <td id=\"T_0c7be_row5_col8\" class=\"data row5 col8\" >1</td>\n",
       "      <td id=\"T_0c7be_row5_col9\" class=\"data row5 col9\" >1</td>\n",
       "      <td id=\"T_0c7be_row5_col10\" class=\"data row5 col10\" >1</td>\n",
       "      <td id=\"T_0c7be_row5_col11\" class=\"data row5 col11\" >1</td>\n",
       "      <td id=\"T_0c7be_row5_col12\" class=\"data row5 col12\" >0</td>\n",
       "      <td id=\"T_0c7be_row5_col13\" class=\"data row5 col13\" >1</td>\n",
       "      <td id=\"T_0c7be_row5_col14\" class=\"data row5 col14\" >1</td>\n",
       "      <td id=\"T_0c7be_row5_col15\" class=\"data row5 col15\" >1</td>\n",
       "    </tr>\n",
       "  </tbody>\n",
       "</table>\n"
      ],
      "text/plain": [
       "<pandas.io.formats.style.Styler at 0x12b88d070>"
      ]
     },
     "metadata": {},
     "output_type": "display_data"
    }
   ],
   "source": [
    "c3_connectivity = get_c3_connectivity()\n",
    "c3_connectivity = c3_connectivity.t()\n",
    "\n",
    "# visualizing the connectivity of C3\n",
    "# See Table I in LeCun et al. 1998\n",
    "import pandas as pd\n",
    "df = pd.DataFrame(c3_connectivity, dtype=int)\n",
    "def red_if_one(val):\n",
    "    return 'color: red' if val == 1 else ''\n",
    "\n",
    "colored_df = df.style.applymap(red_if_one)\n",
    "display(colored_df)\n",
    "\n",
    "c3_connectivity = c3_connectivity.t().float()"
   ]
  },
  {
   "cell_type": "code",
   "execution_count": 10,
   "id": "61a7384c",
   "metadata": {},
   "outputs": [],
   "source": [
    "model = LeNet5()"
   ]
  },
  {
   "cell_type": "code",
   "execution_count": 11,
   "id": "e92c4574",
   "metadata": {},
   "outputs": [
    {
     "name": "stdout",
     "output_type": "stream",
     "text": [
      "c1_num_params=156\n",
      "s2_num_params=12\n",
      "c3_num_params=2416\n",
      "s4_num_params=32\n",
      "c5_num_params=48120\n",
      "f6_num_params=10164\n",
      "rbf_num_params=0\n",
      "\n",
      "C3 # active params: 1516\n",
      "---\n",
      "\n",
      "in: torch.Size([1, 1, 32, 32])\n",
      "after conv1: torch.Size([1, 6, 28, 28])\n",
      "after subs2: torch.Size([1, 6, 14, 14])\n",
      "after conv3: torch.Size([1, 16, 10, 10])\n",
      "after subs4: torch.Size([1, 16, 5, 5])\n",
      "after conv5: torch.Size([1, 120, 1, 1])\n",
      "after flatten: torch.Size([1, 120])\n",
      "after fc6: torch.Size([1, 84])\n",
      "after rbf: torch.Size([1, 10])\n"
     ]
    }
   ],
   "source": [
    "############################\n",
    "# --- LeNet parameters --- #\n",
    "############################\n",
    "\n",
    "def get_layer_nparams(layer):\n",
    "    return sum([p.nelement() for p in layer.parameters()])\n",
    "\n",
    "#model = LeNet5()\n",
    "\n",
    "c1_num_params = get_layer_nparams(model.conv1)\n",
    "s2_num_params = get_layer_nparams(model.subs2)\n",
    "c3_num_params = get_layer_nparams(model.conv3)\n",
    "s4_num_params = get_layer_nparams(model.subs4)\n",
    "c5_num_params = get_layer_nparams(model.conv5)\n",
    "f6_num_params = get_layer_nparams(model.fc6)\n",
    "rbf_num_params = get_layer_nparams(model.rbf)\n",
    "\n",
    "print(f\"{c1_num_params=}\") # C1 has 156 trainable parameters, and 122,304 connections\n",
    "print(f\"{s2_num_params=}\") # S2 has 12 trainable parameters, and 5,880 connections\n",
    "print(f\"{c3_num_params=}\") # C3 has 1,515 trainable parameters, and 151,600 connections\n",
    "print(f\"{s4_num_params=}\") # S4 has 32 trainable parameters and 2,000 connections\n",
    "print(f\"{c5_num_params=}\") # C5 has 48,120 trainable parameters (connections)\n",
    "print(f\"{f6_num_params=}\") # F6 has 10,164 trainable parameters\n",
    "print(f\"{rbf_num_params=}\") # 0\n",
    "\n",
    "# The discrepancy in C3 occurs due to using masking to disable 900 of them:\n",
    "in_ch, out_ch = c3_connectivity.shape[1], c3_connectivity.shape[0]\n",
    "kernel_size = 5\n",
    "\n",
    "# Number of active params:\n",
    "num_connections = int(c3_connectivity.sum().item()) # c3_connectivity consists of 1s and 0s (disabled)\n",
    "num_weights = num_connections * (kernel_size**2)  # each connection has a 5×5 kernel\n",
    "num_biases  = out_ch  # one bias per output mapping\n",
    "num_params  = num_weights + num_biases\n",
    "print(\"\\nC3 # active params:\", num_params)  # 1516\n",
    "\n",
    "\n",
    "print(\"---\\n\")\n",
    "\n",
    "x = torch.randn(1, 1, 32, 32)  # dummy batch of size 1\n",
    "print(\"in:\", x.shape)\n",
    "x = model.conv1(x);         print(\"after conv1:\", x.shape)\n",
    "x = model.subs2(x);         print(\"after subs2:\", x.shape)\n",
    "x = model.conv3(x);         print(\"after conv3:\", x.shape)\n",
    "x = model.subs4(x);         print(\"after subs4:\", x.shape)\n",
    "x = model.conv5(x);         print(\"after conv5:\", x.shape)\n",
    "x = x.view(x.size(0), -1);  print(\"after flatten:\", x.shape)\n",
    "x = model.fc6(x);           print(\"after fc6:\",   x.shape)\n",
    "x = model.rbf(x);           print(\"after rbf:\",   x.shape)\n"
   ]
  },
  {
   "cell_type": "code",
   "execution_count": 22,
   "id": "e94cfc40",
   "metadata": {},
   "outputs": [
    {
     "name": "stdout",
     "output_type": "stream",
     "text": [
      "Initial test loss: 0.0863\n",
      "[Batch 187/1875]  Loss: 0.1162\n",
      "[Batch 374/1875]  Loss: 0.0096\n",
      "[Batch 561/1875]  Loss: 0.0386\n",
      "[Batch 748/1875]  Loss: 0.0412\n",
      "[Batch 935/1875]  Loss: 0.0854\n",
      "[Batch 1122/1875]  Loss: 0.0103\n",
      "[Batch 1309/1875]  Loss: 0.0639\n",
      "[Batch 1496/1875]  Loss: 0.1055\n",
      "[Batch 1683/1875]  Loss: 0.0196\n",
      "[Batch 1870/1875]  Loss: 0.0503\n"
     ]
    }
   ],
   "source": [
    "# later:\n",
    "# lr1 = 5e-4\n",
    "# lr2 = 1e-4\n",
    "# lr3 = 2e-5\n",
    "# lr4 = 1e-5\n",
    "\n",
    "optimizer = torch.optim.Adam(model.parameters(), lr=7e-6)\n",
    "criterion = nn.CrossEntropyLoss()\n",
    "\n",
    "# loss on test set before training\n",
    "model.eval()\n",
    "init_loss = 0.0\n",
    "with torch.no_grad():\n",
    "    for imgs, labels in test_loader:\n",
    "        logits = model(imgs)\n",
    "        init_loss += criterion(logits, labels).item() * labels.size(0)\n",
    "init_loss /= len(test_loader.dataset)\n",
    "print(f\"Initial test loss: {init_loss:.4f}\")\n",
    "\n",
    "num_batches = len(train_loader)\n",
    "model.train()\n",
    "for batch_idx, (imgs, labels) in enumerate(train_loader):\n",
    "    optimizer.zero_grad()\n",
    "    logits = model(imgs)\n",
    "    loss   = criterion(logits, labels)\n",
    "\n",
    "    print_every = max(1, num_batches // 10)\n",
    "    if (batch_idx + 1) % print_every == 0:\n",
    "        print(f\"[Batch {batch_idx+1}/{num_batches}]  Loss: {loss.item():.4f}\")\n",
    "\n",
    "    loss.backward()\n",
    "    optimizer.step()"
   ]
  },
  {
   "cell_type": "code",
   "execution_count": 23,
   "id": "c06d1d79",
   "metadata": {},
   "outputs": [
    {
     "name": "stdout",
     "output_type": "stream",
     "text": [
      "Final test loss: 0.0824  |  Accuracy: 97.55%\n"
     ]
    }
   ],
   "source": [
    "model.eval()\n",
    "test_loss = 0.0\n",
    "correct   = 0\n",
    "total     = 0\n",
    "\n",
    "with torch.no_grad():\n",
    "    for imgs, labels in test_loader:\n",
    "        logits = model(imgs)\n",
    "        test_loss += criterion(logits, labels).item() * labels.size(0)\n",
    "        preds = logits.argmax(dim=1)\n",
    "        total += labels.size(0)\n",
    "        correct += (preds == labels).sum().item()\n",
    "\n",
    "test_loss /= len(test_loader.dataset)\n",
    "acc = 100 * correct / total\n",
    "print(f\"Final test loss: {test_loss:.4f}  |  Accuracy: {acc:.2f}%\")\n"
   ]
  },
  {
   "cell_type": "code",
   "execution_count": 24,
   "id": "456dc351",
   "metadata": {},
   "outputs": [
    {
     "data": {
      "image/png": "[encoded data removed]",
      "text/plain": [
       "<Figure size 1250x300 with 5 Axes>"
      ]
     },
     "metadata": {},
     "output_type": "display_data"
    }
   ],
   "source": [
    "model.eval()\n",
    "mis_cls = []  # will hold tuples (img, true, pred)\n",
    "\n",
    "with torch.no_grad():\n",
    "    for images, labels in test_loader:\n",
    "        outputs = model(images)\n",
    "        preds = outputs.argmax(dim=1)\n",
    "        mask = preds != labels\n",
    "        for img, t, p in zip(images[mask], labels[mask], preds[mask]):\n",
    "            mis_cls.append((img, t.item(), p.item()))\n",
    "        if len(mis_cls) >= 5:\n",
    "            break\n",
    "\n",
    "# Plot the first 5 misclassifications\n",
    "fig, axes = plt.subplots(1, 5, figsize=(5*2.5, 3))\n",
    "for i in range(5):\n",
    "    img, true, pred = mis_cls[i]\n",
    "    axes[i].imshow(img.squeeze().cpu().numpy(), cmap='Greys')\n",
    "    axes[i].set_title(f\"T:{true}\\nP:{pred}\")\n",
    "    axes[i].axis('off')\n",
    "\n",
    "plt.tight_layout()\n",
    "plt.show()\n"
   ]
  },
  {
   "cell_type": "code",
   "execution_count": null,
   "id": "6420b9be",
   "metadata": {},
   "outputs": [],
   "source": []
  }
 ],
 "metadata": {
  "kernelspec": {
   "display_name": "dl_env",
   "language": "python",
   "name": "python3"
  },
  "language_info": {
   "codemirror_mode": {
    "name": "ipython",
    "version": 3
   },
   "file_extension": ".py",
   "mimetype": "text/x-python",
   "name": "python",
   "nbconvert_exporter": "python",
   "pygments_lexer": "ipython3",
   "version": "3.8.18"
  }
 },
 "nbformat": 4,
 "nbformat_minor": 5
}
